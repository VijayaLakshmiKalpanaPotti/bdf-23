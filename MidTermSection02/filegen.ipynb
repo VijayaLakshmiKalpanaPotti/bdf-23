{
 "cells": [
  {
   "cell_type": "code",
   "execution_count": 7,
   "metadata": {},
   "outputs": [],
   "source": [
    "import pandas as pd"
   ]
  },
  {
   "cell_type": "code",
   "execution_count": 10,
   "metadata": {},
   "outputs": [],
   "source": [
    "with open (\"cassandra.txt:\",\"w\") as fout:\n",
    "    fout.write(\"This is a code to demonstrate how to create a file.This is a code to demonstrate how to create a file .This is a code to demonstrate how to create a file This is a code to demonstrate how to create a file This is a code to demonstrate how to create a file This is a code to demonstrate how to create a file This is a code to demonstrate how to create a file This is a code to demonstrate how to create a file This is a code to demonstrate how to create a file This is a code to demonstrate how to create a file This is a code to demonstrate how to create a file This is a code to demonstrate how to create a file.This is a code to demonstrate how to create a file.This is a code to demonstrate how to create a file .This is a code to demonstrate how to create a file This is a code to demonstrate how to create a file This is a code to demonstrate how to create a file This is a code to demonstrate how to create a file This is a code to demonstrate how to create a file This is a code to demonstrate how to create a file This is a code to demonstrate how to create a file This is a code to demonstrate how to create a file This is a code to demonstrate how to create a file This is a code to demonstrate how to create a file \")"
   ]
  },
  {
   "cell_type": "markdown",
   "metadata": {},
   "source": [
    "Opening the file imala.txt in write mode and adding some random text "
   ]
  },
  {
   "cell_type": "code",
   "execution_count": 9,
   "metadata": {},
   "outputs": [
    {
     "data": {
      "text/plain": [
       "'This is a code to demonstrate how to create a file.This is a code to demonstrate how to create a file .This is a code to demonstrate how to create a file This is a code to demonstrate how to create a file This is a code to demonstrate how to create a file This is a code to demonstrate how to create a file This is a code to demonstrate how to create a file This is a code to demonstrate how to create a file This is a code to demonstrate how to create a file This is a code to demonstrate how to create a file This is a code to demonstrate how to create a file This is a code to demonstrate how to create a file '"
      ]
     },
     "execution_count": 9,
     "metadata": {},
     "output_type": "execute_result"
    }
   ],
   "source": [
    "with open (\"cassandra.txt:\",\"r\") as fin:\n",
    "    tmp=fin.read()\n",
    "tmp"
   ]
  },
  {
   "cell_type": "markdown",
   "metadata": {},
   "source": [
    "Opening the file impala.txt and reading data from file and storing in temporary variable tmp and displaying the content in tmp"
   ]
  },
  {
   "cell_type": "code",
   "execution_count": null,
   "metadata": {},
   "outputs": [],
   "source": []
  }
 ],
 "metadata": {
  "kernelspec": {
   "display_name": "DEV01",
   "language": "python",
   "name": "python3"
  },
  "language_info": {
   "codemirror_mode": {
    "name": "ipython",
    "version": 3
   },
   "file_extension": ".py",
   "mimetype": "text/x-python",
   "name": "python",
   "nbconvert_exporter": "python",
   "pygments_lexer": "ipython3",
   "version": "3.11.5"
  },
  "orig_nbformat": 4
 },
 "nbformat": 4,
 "nbformat_minor": 2
}
