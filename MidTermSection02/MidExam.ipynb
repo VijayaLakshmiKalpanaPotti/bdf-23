{
 "cells": [
  {
   "cell_type": "code",
   "execution_count": 45,
   "metadata": {},
   "outputs": [],
   "source": [
    "### Import packages"
   ]
  },
  {
   "cell_type": "code",
   "execution_count": 46,
   "metadata": {},
   "outputs": [],
   "source": [
    "import pandas as pd\n",
    "from cassandra.cluster import Cluster"
   ]
  },
  {
   "cell_type": "code",
   "execution_count": 47,
   "metadata": {},
   "outputs": [],
   "source": [
    "### Create a session connection to Cassandra cluster"
   ]
  },
  {
   "cell_type": "code",
   "execution_count": 48,
   "metadata": {},
   "outputs": [],
   "source": [
    "clstr = Cluster()\n",
    "session = clstr.connect()"
   ]
  },
  {
   "cell_type": "code",
   "execution_count": 49,
   "metadata": {},
   "outputs": [],
   "source": [
    "### Use session to 'talk' to cassandra"
   ]
  },
  {
   "cell_type": "code",
   "execution_count": 50,
   "metadata": {},
   "outputs": [
    {
     "data": {
      "text/plain": [
       "<cassandra.cluster.ResultSet at 0x7f763877b490>"
      ]
     },
     "execution_count": 50,
     "metadata": {},
     "output_type": "execute_result"
    }
   ],
   "source": [
    "session.execute(\"DROP KEYSPACE IF EXISTS midtermkeyspace\")"
   ]
  },
  {
   "cell_type": "markdown",
   "metadata": {},
   "source": [
    "In the above code we are verifying whether keyspace named  midtermkeyspace exists and if so we are dropping the keyspace"
   ]
  },
  {
   "cell_type": "code",
   "execution_count": 51,
   "metadata": {},
   "outputs": [
    {
     "name": "stdout",
     "output_type": "stream",
     "text": [
      "system\n",
      "system_auth\n",
      "system_distributed\n",
      "system_schema\n",
      "system_traces\n",
      "system_views\n",
      "system_virtual_schema\n",
      "w04python\n"
     ]
    }
   ],
   "source": [
    "rows = session.execute(\"desc keyspaces\")\n",
    "for row in rows:\n",
    "    print(f\"{row[0]}\")"
   ]
  },
  {
   "cell_type": "markdown",
   "metadata": {},
   "source": [
    "We are trying to print existing keyspaces using desc (describe) keyspaces command"
   ]
  },
  {
   "cell_type": "code",
   "execution_count": 52,
   "metadata": {},
   "outputs": [
    {
     "data": {
      "text/plain": [
       "<cassandra.cluster.ResultSet at 0x7f763591ec10>"
      ]
     },
     "execution_count": 52,
     "metadata": {},
     "output_type": "execute_result"
    }
   ],
   "source": [
    "session.execute(\"\"\"\n",
    "    CREATE KEYSPACE IF NOT EXISTS midtermkeyspace WITH REPLICATION = {\n",
    "        'class':'SimpleStrategy', \n",
    "        'replication_factor':3\n",
    "    }\n",
    "\"\"\")"
   ]
  },
  {
   "cell_type": "markdown",
   "metadata": {},
   "source": [
    "We are creating a keyspace named midtermkeyspace with a replication factor 3 (means there are 3 copies of data)"
   ]
  },
  {
   "cell_type": "code",
   "execution_count": 53,
   "metadata": {},
   "outputs": [
    {
     "name": "stdout",
     "output_type": "stream",
     "text": [
      "midtermkeyspace\n",
      "system\n",
      "system_auth\n",
      "system_distributed\n",
      "system_schema\n",
      "system_traces\n",
      "system_views\n",
      "system_virtual_schema\n",
      "w04python\n"
     ]
    }
   ],
   "source": [
    "rows = session.execute(\"desc keyspaces\")\n",
    "for row in rows:\n",
    "    print(f\"{row[0]}\")"
   ]
  },
  {
   "cell_type": "markdown",
   "metadata": {},
   "source": [
    "If we try to print the keyspaces , we can see that the midtermkeyspace is added"
   ]
  },
  {
   "cell_type": "markdown",
   "metadata": {},
   "source": [
    "Create a filesys table for for storing userid,date and filetype and file.Here the primary key is userID"
   ]
  },
  {
   "cell_type": "code",
   "execution_count": 54,
   "metadata": {},
   "outputs": [
    {
     "ename": "InvalidRequest",
     "evalue": "Error from server: code=2200 [Invalid query] message=\"Unknown type midtermkeyspace.file\"",
     "output_type": "error",
     "traceback": [
      "\u001b[0;31m---------------------------------------------------------------------------\u001b[0m",
      "\u001b[0;31mInvalidRequest\u001b[0m                            Traceback (most recent call last)",
      "\u001b[1;32m/home/student/MidTerm/bdf-23/MidTermSection02/MidExam.ipynb Cell 15\u001b[0m line \u001b[0;36m1\n\u001b[0;32m----> <a href='vscode-notebook-cell:/home/student/MidTerm/bdf-23/MidTermSection02/MidExam.ipynb#X20sZmlsZQ%3D%3D?line=0'>1</a>\u001b[0m session\u001b[39m.\u001b[39;49mexecute(\u001b[39m\"\"\"\u001b[39;49m\n\u001b[1;32m      <a href='vscode-notebook-cell:/home/student/MidTerm/bdf-23/MidTermSection02/MidExam.ipynb#X20sZmlsZQ%3D%3D?line=1'>2</a>\u001b[0m \u001b[39mCREATE TABLE IF NOT EXISTS midtermkeyspace.testfile ( \u001b[39;49m\n\u001b[1;32m      <a href='vscode-notebook-cell:/home/student/MidTerm/bdf-23/MidTermSection02/MidExam.ipynb#X20sZmlsZQ%3D%3D?line=2'>3</a>\u001b[0m \u001b[39m    userID INT, \u001b[39;49m\n\u001b[1;32m      <a href='vscode-notebook-cell:/home/student/MidTerm/bdf-23/MidTermSection02/MidExam.ipynb#X20sZmlsZQ%3D%3D?line=3'>4</a>\u001b[0m \u001b[39m    date DATE, \u001b[39;49m\n\u001b[1;32m      <a href='vscode-notebook-cell:/home/student/MidTerm/bdf-23/MidTermSection02/MidExam.ipynb#X20sZmlsZQ%3D%3D?line=4'>5</a>\u001b[0m \u001b[39m    filetype TEXT, \u001b[39;49m\n\u001b[1;32m      <a href='vscode-notebook-cell:/home/student/MidTerm/bdf-23/MidTermSection02/MidExam.ipynb#X20sZmlsZQ%3D%3D?line=5'>6</a>\u001b[0m \u001b[39m    filename FILE,\u001b[39;49m\n\u001b[1;32m      <a href='vscode-notebook-cell:/home/student/MidTerm/bdf-23/MidTermSection02/MidExam.ipynb#X20sZmlsZQ%3D%3D?line=6'>7</a>\u001b[0m \u001b[39m    PRIMARY KEY(userID,filename)\u001b[39;49m\n\u001b[1;32m      <a href='vscode-notebook-cell:/home/student/MidTerm/bdf-23/MidTermSection02/MidExam.ipynb#X20sZmlsZQ%3D%3D?line=7'>8</a>\u001b[0m \u001b[39m);\u001b[39;49m\n\u001b[1;32m      <a href='vscode-notebook-cell:/home/student/MidTerm/bdf-23/MidTermSection02/MidExam.ipynb#X20sZmlsZQ%3D%3D?line=8'>9</a>\u001b[0m \u001b[39m\"\"\"\u001b[39;49m)\n",
      "File \u001b[0;32m~/miniconda3/envs/DEV01/lib/python3.11/site-packages/cassandra/cluster.py:2618\u001b[0m, in \u001b[0;36mcassandra.cluster.Session.execute\u001b[0;34m()\u001b[0m\n",
      "File \u001b[0;32m~/miniconda3/envs/DEV01/lib/python3.11/site-packages/cassandra/cluster.py:4894\u001b[0m, in \u001b[0;36mcassandra.cluster.ResponseFuture.result\u001b[0;34m()\u001b[0m\n",
      "\u001b[0;31mInvalidRequest\u001b[0m: Error from server: code=2200 [Invalid query] message=\"Unknown type midtermkeyspace.file\""
     ]
    }
   ],
   "source": [
    "session.execute(\"\"\"\n",
    "CREATE TABLE IF NOT EXISTS midtermkeyspace.testfile ( \n",
    "    userID INT, \n",
    "    date DATE, \n",
    "    filetype TEXT, \n",
    "    filename TEXT,\n",
    "    PRIMARY KEY(userID,filename)\n",
    ");\n",
    "\"\"\")"
   ]
  },
  {
   "cell_type": "markdown",
   "metadata": {},
   "source": [
    "### Load data"
   ]
  },
  {
   "cell_type": "code",
   "execution_count": null,
   "metadata": {},
   "outputs": [
    {
     "data": {
      "text/html": [
       "<div>\n",
       "<style scoped>\n",
       "    .dataframe tbody tr th:only-of-type {\n",
       "        vertical-align: middle;\n",
       "    }\n",
       "\n",
       "    .dataframe tbody tr th {\n",
       "        vertical-align: top;\n",
       "    }\n",
       "\n",
       "    .dataframe thead th {\n",
       "        text-align: right;\n",
       "    }\n",
       "</style>\n",
       "<table border=\"1\" class=\"dataframe\">\n",
       "  <thead>\n",
       "    <tr style=\"text-align: right;\">\n",
       "      <th></th>\n",
       "      <th>userID</th>\n",
       "      <th>date</th>\n",
       "      <th>filetype</th>\n",
       "      <th>filename</th>\n",
       "    </tr>\n",
       "  </thead>\n",
       "  <tbody>\n",
       "    <tr>\n",
       "      <th>0</th>\n",
       "      <td>101</td>\n",
       "      <td>07-10-2017</td>\n",
       "      <td>'image'</td>\n",
       "      <td>'bd.img'</td>\n",
       "    </tr>\n",
       "    <tr>\n",
       "      <th>1</th>\n",
       "      <td>102</td>\n",
       "      <td>19-09-2018</td>\n",
       "      <td>'text'</td>\n",
       "      <td>'cassandra.txt'</td>\n",
       "    </tr>\n",
       "    <tr>\n",
       "      <th>2</th>\n",
       "      <td>103</td>\n",
       "      <td>'30-05-2019'</td>\n",
       "      <td>'video'</td>\n",
       "      <td>'mongodb.mp4'</td>\n",
       "    </tr>\n",
       "    <tr>\n",
       "      <th>3</th>\n",
       "      <td>104</td>\n",
       "      <td>'09-11-2013</td>\n",
       "      <td>'image'</td>\n",
       "      <td>'cloud.img'</td>\n",
       "    </tr>\n",
       "    <tr>\n",
       "      <th>4</th>\n",
       "      <td>105</td>\n",
       "      <td>'14-05-2009'</td>\n",
       "      <td>'text'</td>\n",
       "      <td>'impala.txt'</td>\n",
       "    </tr>\n",
       "  </tbody>\n",
       "</table>\n",
       "</div>"
      ],
      "text/plain": [
       "   userID          date filetype         filename\n",
       "0     101    07-10-2017  'image'         'bd.img'\n",
       "1     102    19-09-2018   'text'  'cassandra.txt'\n",
       "2     103  '30-05-2019'  'video'    'mongodb.mp4'\n",
       "3     104   '09-11-2013  'image'      'cloud.img'\n",
       "4     105  '14-05-2009'   'text'     'impala.txt'"
      ]
     },
     "execution_count": 37,
     "metadata": {},
     "output_type": "execute_result"
    }
   ],
   "source": [
    "df = pd.read_csv('middata.csv')\n",
    "df"
   ]
  },
  {
   "cell_type": "code",
   "execution_count": null,
   "metadata": {},
   "outputs": [
    {
     "name": "stdout",
     "output_type": "stream",
     "text": [
      "userID = 101, date =07-10-2017, filetype = 'image', filename = 'bd.img'\n",
      "userID = 102, date =19-09-2018, filetype = 'text', filename = 'cassandra.txt'\n",
      "userID = 103, date ='30-05-2019', filetype = 'video', filename = 'mongodb.mp4'\n",
      "userID = 104, date ='09-11-2013, filetype = 'image', filename = 'cloud.img'\n",
      "userID = 105, date ='14-05-2009', filetype = 'text', filename = 'impala.txt'\n"
     ]
    }
   ],
   "source": [
    "for index, row in df.iterrows():\n",
    "    print(f\"userID = {row.userID}, date ={row.date}, filetype = {row.filetype}, filename = {row.filename}\")"
   ]
  },
  {
   "cell_type": "code",
   "execution_count": null,
   "metadata": {},
   "outputs": [
    {
     "name": "stdout",
     "output_type": "stream",
     "text": [
      "\n",
      "        INSERT INTO midtermkeyspace.testfile (userID, date, filetype, filename)     \n",
      "        VALUES (101, 07-10-2017, 'image', 'bd.img');\n",
      "        \n"
     ]
    },
    {
     "ename": "SyntaxException",
     "evalue": "<Error from server: code=2000 [Syntax error in CQL query] message=\"line 3:23 no viable alternative at input '-10' (...filename)             VALUES (101, 07[-10]...)\">",
     "output_type": "error",
     "traceback": [
      "\u001b[0;31m---------------------------------------------------------------------------\u001b[0m",
      "\u001b[0;31mSyntaxException\u001b[0m                           Traceback (most recent call last)",
      "\u001b[1;32m/home/student/MidTerm/bdf-23/MidTermSection02/MidExam.ipynb Cell 19\u001b[0m line \u001b[0;36m7\n\u001b[1;32m      <a href='vscode-notebook-cell:/home/student/MidTerm/bdf-23/MidTermSection02/MidExam.ipynb#X35sZmlsZQ%3D%3D?line=0'>1</a>\u001b[0m \u001b[39mfor\u001b[39;00m index, row \u001b[39min\u001b[39;00m df\u001b[39m.\u001b[39miterrows():\n\u001b[1;32m      <a href='vscode-notebook-cell:/home/student/MidTerm/bdf-23/MidTermSection02/MidExam.ipynb#X35sZmlsZQ%3D%3D?line=1'>2</a>\u001b[0m     \u001b[39mprint\u001b[39m(\u001b[39mf\u001b[39m\u001b[39m\"\"\"\u001b[39m\n\u001b[1;32m      <a href='vscode-notebook-cell:/home/student/MidTerm/bdf-23/MidTermSection02/MidExam.ipynb#X35sZmlsZQ%3D%3D?line=2'>3</a>\u001b[0m \u001b[39m        INSERT INTO midtermkeyspace.testfile (userID, date, filetype, filename)     \u001b[39m\n\u001b[1;32m      <a href='vscode-notebook-cell:/home/student/MidTerm/bdf-23/MidTermSection02/MidExam.ipynb#X35sZmlsZQ%3D%3D?line=3'>4</a>\u001b[0m \u001b[39m        VALUES (\u001b[39m\u001b[39m{\u001b[39;00mrow\u001b[39m.\u001b[39muserID\u001b[39m}\u001b[39;00m\u001b[39m, \u001b[39m\u001b[39m{\u001b[39;00mrow\u001b[39m.\u001b[39mdate\u001b[39m}\u001b[39;00m\u001b[39m, \u001b[39m\u001b[39m{\u001b[39;00mrow\u001b[39m.\u001b[39mfiletype\u001b[39m}\u001b[39;00m\u001b[39m, \u001b[39m\u001b[39m{\u001b[39;00mrow\u001b[39m.\u001b[39mfilename\u001b[39m}\u001b[39;00m\u001b[39m);\u001b[39m\n\u001b[1;32m      <a href='vscode-notebook-cell:/home/student/MidTerm/bdf-23/MidTermSection02/MidExam.ipynb#X35sZmlsZQ%3D%3D?line=4'>5</a>\u001b[0m \u001b[39m        \u001b[39m\u001b[39m\"\"\"\u001b[39m\n\u001b[1;32m      <a href='vscode-notebook-cell:/home/student/MidTerm/bdf-23/MidTermSection02/MidExam.ipynb#X35sZmlsZQ%3D%3D?line=5'>6</a>\u001b[0m     )\n\u001b[0;32m----> <a href='vscode-notebook-cell:/home/student/MidTerm/bdf-23/MidTermSection02/MidExam.ipynb#X35sZmlsZQ%3D%3D?line=6'>7</a>\u001b[0m     session\u001b[39m.\u001b[39;49mexecute(\u001b[39mf\u001b[39;49m\u001b[39m\"\"\"\u001b[39;49m\n\u001b[1;32m      <a href='vscode-notebook-cell:/home/student/MidTerm/bdf-23/MidTermSection02/MidExam.ipynb#X35sZmlsZQ%3D%3D?line=7'>8</a>\u001b[0m \u001b[39m        INSERT INTO midtermkeyspace.testfile (userID, date, filetype, filename)     \u001b[39;49m\n\u001b[1;32m      <a href='vscode-notebook-cell:/home/student/MidTerm/bdf-23/MidTermSection02/MidExam.ipynb#X35sZmlsZQ%3D%3D?line=8'>9</a>\u001b[0m \u001b[39m        VALUES (\u001b[39;49m\u001b[39m{\u001b[39;49;00mrow\u001b[39m.\u001b[39;49muserID\u001b[39m}\u001b[39;49;00m\u001b[39m, \u001b[39;49m\u001b[39m{\u001b[39;49;00mrow\u001b[39m.\u001b[39;49mdate\u001b[39m}\u001b[39;49;00m\u001b[39m, \u001b[39;49m\u001b[39m{\u001b[39;49;00mrow\u001b[39m.\u001b[39;49mfiletype\u001b[39m}\u001b[39;49;00m\u001b[39m, \u001b[39;49m\u001b[39m{\u001b[39;49;00mrow\u001b[39m.\u001b[39;49mfilename\u001b[39m}\u001b[39;49;00m\u001b[39m);\u001b[39;49m\n\u001b[1;32m     <a href='vscode-notebook-cell:/home/student/MidTerm/bdf-23/MidTermSection02/MidExam.ipynb#X35sZmlsZQ%3D%3D?line=9'>10</a>\u001b[0m \u001b[39m        \u001b[39;49m\u001b[39m\"\"\"\u001b[39;49m\n\u001b[1;32m     <a href='vscode-notebook-cell:/home/student/MidTerm/bdf-23/MidTermSection02/MidExam.ipynb#X35sZmlsZQ%3D%3D?line=10'>11</a>\u001b[0m     )\n",
      "File \u001b[0;32m~/miniconda3/envs/DEV01/lib/python3.11/site-packages/cassandra/cluster.py:2618\u001b[0m, in \u001b[0;36mcassandra.cluster.Session.execute\u001b[0;34m()\u001b[0m\n",
      "File \u001b[0;32m~/miniconda3/envs/DEV01/lib/python3.11/site-packages/cassandra/cluster.py:4894\u001b[0m, in \u001b[0;36mcassandra.cluster.ResponseFuture.result\u001b[0;34m()\u001b[0m\n",
      "\u001b[0;31mSyntaxException\u001b[0m: <Error from server: code=2000 [Syntax error in CQL query] message=\"line 3:23 no viable alternative at input '-10' (...filename)             VALUES (101, 07[-10]...)\">"
     ]
    }
   ],
   "source": [
    "for index, row in df.iterrows():\n",
    "    print(f\"\"\"\n",
    "        INSERT INTO midtermkeyspace.testfile (userID, date, filetype, filename)     \n",
    "        VALUES ({row.userID}, {row.date}, {row.filetype}, {row.filename});\n",
    "        \"\"\"\n",
    "    )\n",
    "    session.execute(f\"\"\"\n",
    "        INSERT INTO midtermkeyspace.testfile (userID, date, filetype, filename)     \n",
    "        VALUES ({row.userID}, {row.date}, {row.filetype}, {row.filename});\n",
    "        \"\"\"\n",
    "    )"
   ]
  },
  {
   "cell_type": "markdown",
   "metadata": {},
   "source": [
    "Printing various fields and their corresponding values"
   ]
  },
  {
   "cell_type": "code",
   "execution_count": null,
   "metadata": {},
   "outputs": [],
   "source": [
    "with open (\"impala.txt:\",\"w\") as fout:\n",
    "    fout.write(\"This is a code to demonstrate how to add text to a file. \")"
   ]
  },
  {
   "cell_type": "markdown",
   "metadata": {},
   "source": [
    "Opening the file impala.txt in write mode and adding some random text "
   ]
  },
  {
   "cell_type": "code",
   "execution_count": null,
   "metadata": {},
   "outputs": [
    {
     "data": {
      "text/plain": [
       "'This is a code to demonstrate how to add text to a file. '"
      ]
     },
     "execution_count": 41,
     "metadata": {},
     "output_type": "execute_result"
    }
   ],
   "source": [
    "with open (\"impala.txt:\",\"r\") as fin:\n",
    "    tmp=fin.read()\n",
    "tmp"
   ]
  },
  {
   "cell_type": "markdown",
   "metadata": {},
   "source": [
    "Opening the file in read mode and storing it in a temporary variable and trying to print the variable."
   ]
  },
  {
   "cell_type": "code",
   "execution_count": null,
   "metadata": {},
   "outputs": [
    {
     "ename": "InvalidRequest",
     "evalue": "Error from server: code=2200 [Invalid query] message=\"Non PRIMARY KEY columns found in where clause: filename \"",
     "output_type": "error",
     "traceback": [
      "\u001b[0;31m---------------------------------------------------------------------------\u001b[0m",
      "\u001b[0;31mInvalidRequest\u001b[0m                            Traceback (most recent call last)",
      "\u001b[1;32m/home/student/MidTerm/bdf-23/MidTermSection02/MidExam.ipynb Cell 25\u001b[0m line \u001b[0;36m1\n\u001b[0;32m----> <a href='vscode-notebook-cell:/home/student/MidTerm/bdf-23/MidTermSection02/MidExam.ipynb#X33sZmlsZQ%3D%3D?line=0'>1</a>\u001b[0m d_rows\u001b[39m=\u001b[39msession\u001b[39m.\u001b[39;49mexecute(\u001b[39mf\u001b[39;49m\u001b[39m\"\"\"\u001b[39;49m\n\u001b[1;32m      <a href='vscode-notebook-cell:/home/student/MidTerm/bdf-23/MidTermSection02/MidExam.ipynb#X33sZmlsZQ%3D%3D?line=1'>2</a>\u001b[0m \u001b[39m        DELETE FROM midtermkeyspace.testfile WHERE userID=105 AND filename=\u001b[39;49m\u001b[39m'\u001b[39;49m\u001b[39mimpala.txt\u001b[39;49m\u001b[39m'\u001b[39;49m\u001b[39m;\u001b[39;49m\n\u001b[1;32m      <a href='vscode-notebook-cell:/home/student/MidTerm/bdf-23/MidTermSection02/MidExam.ipynb#X33sZmlsZQ%3D%3D?line=2'>3</a>\u001b[0m \u001b[39m        \u001b[39;49m\u001b[39m\"\"\"\u001b[39;49m)\n",
      "File \u001b[0;32m~/miniconda3/envs/DEV01/lib/python3.11/site-packages/cassandra/cluster.py:2618\u001b[0m, in \u001b[0;36mcassandra.cluster.Session.execute\u001b[0;34m()\u001b[0m\n",
      "File \u001b[0;32m~/miniconda3/envs/DEV01/lib/python3.11/site-packages/cassandra/cluster.py:4894\u001b[0m, in \u001b[0;36mcassandra.cluster.ResponseFuture.result\u001b[0;34m()\u001b[0m\n",
      "\u001b[0;31mInvalidRequest\u001b[0m: Error from server: code=2200 [Invalid query] message=\"Non PRIMARY KEY columns found in where clause: filename \""
     ]
    }
   ],
   "source": [
    "d_rows=session.execute(f\"\"\"\n",
    "        DELETE FROM midtermkeyspace.testfile WHERE userID=105 AND filename='impala.txt';\n",
    "        \"\"\")"
   ]
  },
  {
   "cell_type": "markdown",
   "metadata": {},
   "source": [
    "Deleting the file named imapla.txt by providing both the primary key attributes userid and filename"
   ]
  },
  {
   "cell_type": "code",
   "execution_count": null,
   "metadata": {},
   "outputs": [],
   "source": [
    "rows = session.execute(\"select userID,date,filetype,filename from midtermkeyspace.testfile where userID=104 and filename='cloud.img' ALLOW FILTERING\")\n",
    "for row in rows:\n",
    "    print(f\"{row[0][0]}, {row[0][1]}, {row[0][2]}, {row[0][3]}\")\n",
    "    "
   ]
  },
  {
   "cell_type": "markdown",
   "metadata": {},
   "source": [
    "Selecting a record based on the userID and filename"
   ]
  },
  {
   "cell_type": "code",
   "execution_count": null,
   "metadata": {},
   "outputs": [],
   "source": []
  },
  {
   "cell_type": "markdown",
   "metadata": {},
   "source": [
    "Conclusion"
   ]
  },
  {
   "cell_type": "markdown",
   "metadata": {},
   "source": [
    "In this, I created a namespace and table with the fields userID,date,filetype and filename. Retrieved the data from csv file named middata.csv and added the rows to the table.Opened the file and added text to the file, deleted the file by providing primary keys and selected a record."
   ]
  }
 ],
 "metadata": {
  "kernelspec": {
   "display_name": "DEV01",
   "language": "python",
   "name": "python3"
  },
  "language_info": {
   "codemirror_mode": {
    "name": "ipython",
    "version": 3
   },
   "file_extension": ".py",
   "mimetype": "text/x-python",
   "name": "python",
   "nbconvert_exporter": "python",
   "pygments_lexer": "ipython3",
   "version": "3.11.5"
  },
  "orig_nbformat": 4
 },
 "nbformat": 4,
 "nbformat_minor": 2
}
